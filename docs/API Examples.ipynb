{
 "cells": [
  {
   "cell_type": "markdown",
   "metadata": {},
   "source": [
    "# MINE API Examples\n",
    "MINE is a database of predicted metabolic reactions, based on known biochemistry. You can use the MINE API to:\n",
    "\n",
    "1. Perform a database search, including MINE compound search by similarity or substructure\n",
    "2. Retrieve lists of compounds, operators, and reactions\n",
    "3. Perform an MS search (requires MS data)\n",
    "4. Perform an MS2 search (requires MS2 data)\n",
    "5. Download predicted spectra for MINE compounds\n",
    "6. Get a list of possible adducts for metabolomics searches\n",
    "\n",
    "Examples are provided below for each of these requests. The mongotest MINE database, which contains 26 compounds, 8 reactions, and 2 operators, is used for all examples.\n",
    "\n",
    "**Note:** If using python requests library, make sure verify argument to get() or post() method is set to False. We are seeking to fix this in the future.\n",
    "\n",
    "## Setup"
   ]
  },
  {
   "cell_type": "code",
   "execution_count": 1,
   "metadata": {},
   "outputs": [],
   "source": [
    "import requests\n",
    "import json\n",
    "import certifi"
   ]
  },
  {
   "cell_type": "code",
   "execution_count": 2,
   "metadata": {},
   "outputs": [],
   "source": [
    "BASE_URL = 'http://minedatabase.ci.northwestern.edu/mineserver/'\n",
    "\n",
    "DB_NAME = 'kegg_lte600_500mcy'  # KEGG MINE 2.0\n",
    "#DB_NAME = 'ecocyc_lte600_500mcy'  # EcoCyc MINE 2.0\n",
    "#DB_NAME = 'ymdb_lte600_500mcy'  # YMDB MINE 2.0"
   ]
  },
  {
   "cell_type": "markdown",
   "metadata": {},
   "source": [
    "## 1. Perform a database compound search\n",
    "All searches are GET requests.\n",
    "\n",
    "**Endpoints**:\n",
    "\n",
    "- **Quick Search**: .../mineserver/quick-search/&lt;db_name>/q=&lt;query>\n",
    "\n",
    "- **Similarity Search**: ...mineserver/similarity-search/&lt;db_name>/smiles=&lt;smiles>/&lt;min_tc>/&lt;limit>  \n",
    "....where &lt;min_tc> and &lt;limit> are optional.\n",
    "\n",
    "- **Substructure Search**: .../mineserver/substructure-search/&lt;db_name>/smiles=&lt;smiles>/&lt;limit>  \n",
    "....where &lt;limit> is optional.\n",
    "\n",
    "- **Model Search**: .../mineserver/model-search/q=&lt;query>\n",
    "\n",
    "**URL Arguments**:\n",
    "- &lt;db_name>: Name of MINE database\n",
    "- &lt;query>: Search query - format depends on the search:\n",
    " - Quick Search: a MINE id, KEGG organism code, ModelSEED id, Inchikey, or Name\n",
    " - Model Search: KEGG organism code or organism name\n",
    " - Database Search: a valid Mongo query\n",
    "- &lt;smiles>: SMILES string describing molecular structure (or substructure for substructure search)\n",
    "- &lt;min_tc>: (optional) minimum Tanimoto coefficient for similarity scoring\n",
    "- &lt;limit>: (optional) maximum number of results to return\n",
    "\n",
    "Quick search, similarity search, and substructure search will likely be the most common use cases. Model search can be used to see whether MINE has compounds linked to a specific organism. Database search can be used for completely customizable searches as it just requires a valid search query using Mongo syntax.\n",
    "\n",
    "### Example 1a - Quick Search\n",
    "Here, we perform a quick search based on a compound KEGG ID (can also do InChI key or MINE ID)"
   ]
  },
  {
   "cell_type": "code",
   "execution_count": 3,
   "metadata": {
    "scrolled": false
   },
   "outputs": [
    {
     "data": {
      "text/plain": [
       "[{'Charge': 0,\n",
       "  'Formula': 'C3H8O2',\n",
       "  'Inchi': 'InChI=1S/C3H8O2/c1-3(5)2-4/h3-5H,2H2,1H3',\n",
       "  'KEGG_id': 'C00583',\n",
       "  'MINE_id': 41,\n",
       "  'Mass': 76.052429496,\n",
       "  'SMILES': 'CC(O)CO',\n",
       "  '_id': 'Cb1654fad58a20fa68742b1bd114fd58c9236cb34',\n",
       "  'len_RDKit_fp': 16,\n",
       "  'logP': -0.6405000000000001}]"
      ]
     },
     "execution_count": 3,
     "metadata": {},
     "output_type": "execute_result"
    }
   ],
   "source": [
    "url = BASE_URL + f'quick-search/{DB_NAME}/q=C00583'\n",
    "response = requests.get(url, verify=False, timeout=100)\n",
    "json.loads(response.content)"
   ]
  },
  {
   "cell_type": "markdown",
   "metadata": {},
   "source": [
    "### Example 1b - Similarity Search\n",
    "Here, we perform a similarity search using pyruvate as the query molecule. Pyruvate is in the KEGG MINE 2.0 database so it is returned. D-allose is also returned.\n",
    "\n",
    "We set the similarity to be above 0.75 (Tanimoto similarity using RDKit fingerprints) and want to return up to 100 results."
   ]
  },
  {
   "cell_type": "code",
   "execution_count": 4,
   "metadata": {
    "scrolled": true
   },
   "outputs": [
    {
     "data": {
      "text/plain": [
       "[{'Charge': 0,\n",
       "  'Formula': 'C3H4O3',\n",
       "  'Inchi': 'InChI=1S/C3H4O3/c1-2(4)3(5)6/h1H3,(H,5,6)',\n",
       "  'KEGG_id': 'C00022',\n",
       "  'MINE_id': 32182,\n",
       "  'Mass': 88.016043988,\n",
       "  'RDKit_fp': [40,\n",
       "   45,\n",
       "   50,\n",
       "   51,\n",
       "   64,\n",
       "   89,\n",
       "   94,\n",
       "   97,\n",
       "   110,\n",
       "   111,\n",
       "   129,\n",
       "   130,\n",
       "   149,\n",
       "   159,\n",
       "   167,\n",
       "   192,\n",
       "   197,\n",
       "   199,\n",
       "   200,\n",
       "   209,\n",
       "   236,\n",
       "   240,\n",
       "   254,\n",
       "   277,\n",
       "   284,\n",
       "   293,\n",
       "   297,\n",
       "   315,\n",
       "   336,\n",
       "   350,\n",
       "   371,\n",
       "   388,\n",
       "   395,\n",
       "   417,\n",
       "   481,\n",
       "   485],\n",
       "  'SMILES': 'CC(=O)C(=O)O',\n",
       "  '_id': 'Cf7e036e330ad26caa66bb458faad18fa684af921',\n",
       "  'len_RDKit_fp': 36,\n",
       "  'logP': -0.34000000000000014},\n",
       " {'Charge': 0,\n",
       "  'Formula': 'C3H4O4',\n",
       "  'Inchi': 'InChI=1S/C3H4O4/c4-1-2(5)3(6)7/h4H,1H2,(H,6,7)',\n",
       "  'KEGG_id': 'C00168',\n",
       "  'MINE_id': 9663,\n",
       "  'Mass': 104.010958608,\n",
       "  'RDKit_fp': [33,\n",
       "   40,\n",
       "   45,\n",
       "   46,\n",
       "   50,\n",
       "   51,\n",
       "   64,\n",
       "   77,\n",
       "   89,\n",
       "   92,\n",
       "   94,\n",
       "   97,\n",
       "   110,\n",
       "   111,\n",
       "   119,\n",
       "   129,\n",
       "   130,\n",
       "   149,\n",
       "   159,\n",
       "   167,\n",
       "   168,\n",
       "   169,\n",
       "   192,\n",
       "   197,\n",
       "   199,\n",
       "   200,\n",
       "   209,\n",
       "   230,\n",
       "   236,\n",
       "   240,\n",
       "   249,\n",
       "   254,\n",
       "   277,\n",
       "   284,\n",
       "   293,\n",
       "   297,\n",
       "   315,\n",
       "   316,\n",
       "   336,\n",
       "   350,\n",
       "   371,\n",
       "   378,\n",
       "   388,\n",
       "   395,\n",
       "   417,\n",
       "   481,\n",
       "   485],\n",
       "  'SMILES': 'O=C(O)C(=O)CO',\n",
       "  '_id': 'C88ea8bbf8f919ba2ead9e9964950b10f5598ec19',\n",
       "  'len_RDKit_fp': 47,\n",
       "  'logP': -1.3676},\n",
       " {'Charge': 0,\n",
       "  'Formula': 'C3H2O4',\n",
       "  'Inchi': 'InChI=1S/C3H2O4/c4-1-2(5)3(6)7/h1H,(H,6,7)',\n",
       "  'KEGG_id': None,\n",
       "  'MINE_id': 539696,\n",
       "  'Mass': 101.99530854400001,\n",
       "  'RDKit_fp': [40,\n",
       "   45,\n",
       "   50,\n",
       "   51,\n",
       "   64,\n",
       "   72,\n",
       "   77,\n",
       "   89,\n",
       "   92,\n",
       "   94,\n",
       "   97,\n",
       "   102,\n",
       "   108,\n",
       "   110,\n",
       "   111,\n",
       "   129,\n",
       "   130,\n",
       "   149,\n",
       "   159,\n",
       "   167,\n",
       "   169,\n",
       "   192,\n",
       "   197,\n",
       "   199,\n",
       "   200,\n",
       "   209,\n",
       "   210,\n",
       "   236,\n",
       "   240,\n",
       "   254,\n",
       "   277,\n",
       "   284,\n",
       "   293,\n",
       "   297,\n",
       "   315,\n",
       "   336,\n",
       "   350,\n",
       "   371,\n",
       "   378,\n",
       "   381,\n",
       "   388,\n",
       "   395,\n",
       "   417,\n",
       "   481,\n",
       "   482,\n",
       "   485,\n",
       "   502,\n",
       "   506],\n",
       "  'SMILES': 'O=CC(=O)C(=O)O',\n",
       "  '_id': 'C3f5eb193dfdc33b67948d83425d9c37cc094a85e',\n",
       "  'len_RDKit_fp': 48,\n",
       "  'logP': -1.1610000000000003}]"
      ]
     },
     "execution_count": 4,
     "metadata": {},
     "output_type": "execute_result"
    }
   ],
   "source": [
    "url = BASE_URL + f'similarity-search/{DB_NAME}/smiles=CC(=O)C(=O)O/0.75/100'\n",
    "response = requests.get(url, verify=False, timeout=100)\n",
    "results = json.loads(response.content)\n",
    "results[:3]"
   ]
  },
  {
   "cell_type": "code",
   "execution_count": 5,
   "metadata": {},
   "outputs": [
    {
     "data": {
      "text/plain": [
       "3"
      ]
     },
     "execution_count": 5,
     "metadata": {},
     "output_type": "execute_result"
    }
   ],
   "source": [
    "len(json.loads(response.content))"
   ]
  },
  {
   "cell_type": "markdown",
   "metadata": {},
   "source": [
    "### Example 1c - Substructure Search\n",
    "Here, we perform a substructure search using a part of the D-glucose molecule (just a C-C-C-O structure)"
   ]
  },
  {
   "cell_type": "code",
   "execution_count": 6,
   "metadata": {
    "scrolled": true
   },
   "outputs": [
    {
     "data": {
      "text/plain": [
       "[{'Charge': 0,\n",
       "  'Formula': 'C3H8O2',\n",
       "  'Inchi': 'InChI=1S/C3H8O2/c1-3(5)2-4/h3-5H,2H2,1H3',\n",
       "  'KEGG_id': 'C00583',\n",
       "  'MINE_id': 41,\n",
       "  'Mass': 76.052429496,\n",
       "  'SMILES': 'CC(O)CO',\n",
       "  '_id': 'Cb1654fad58a20fa68742b1bd114fd58c9236cb34',\n",
       "  'len_RDKit_fp': 16,\n",
       "  'logP': -0.6405000000000001},\n",
       " {'Charge': 0,\n",
       "  'Formula': 'C4H10O2',\n",
       "  'Inchi': 'InChI=1S/C4H10O2/c1-4(5)3-6-2/h4-5H,3H2,1-2H3',\n",
       "  'KEGG_id': None,\n",
       "  'MINE_id': 78,\n",
       "  'Mass': 90.06807956,\n",
       "  'SMILES': 'COCC(C)O',\n",
       "  '_id': 'Cfd5c53d28c83351c8dbedb0bd4f5aa6fadada2a3',\n",
       "  'len_RDKit_fp': 26,\n",
       "  'logP': 0.013600000000000112},\n",
       " {'Charge': 0,\n",
       "  'Formula': 'C24H42N7O17P3S',\n",
       "  'Inchi': 'InChI=1S/C24H42N7O17P3S/c1-13(32)9-52-7-6-26-15(33)4-5-27-22(36)19(35)24(2,3)10-45-51(42,43)48-50(40,41)44-8-14-18(47-49(37,38)39)17(34)23(46-14)31-12-30-16-20(25)28-11-29-21(16)31/h11-14,17-19,23,32,34-35H,4-10H2,1-3H3,(H,26,33)(H,27,36)(H,40,41)(H,42,43)(H2,25,28,29)(H2,37,38,39)/t13?,14-,17-,18-,19+,23-/m1/s1',\n",
       "  'KEGG_id': None,\n",
       "  'MINE_id': 116,\n",
       "  'Mass': 825.1570737739999,\n",
       "  'SMILES': 'CC(O)CSCCNC(=O)CCNC(=O)[C@H](O)C(C)(C)COP(=O)(O)OP(=O)(O)OC[C@H]1O[C@@H](n2cnc3c(N)ncnc32)[C@H](O)[C@@H]1OP(=O)(O)O',\n",
       "  '_id': 'C49d911674d1f83fc55e7674aa46b6027197c97a2',\n",
       "  'len_RDKit_fp': 508,\n",
       "  'logP': -1.4810999999999948}]"
      ]
     },
     "execution_count": 6,
     "metadata": {},
     "output_type": "execute_result"
    }
   ],
   "source": [
    "url = BASE_URL + f'substructure-search/{DB_NAME}/smiles=CCCO'\n",
    "response = requests.get(url, verify=False, timeout=100)\n",
    "results = json.loads(response.content)\n",
    "results[:3]"
   ]
  },
  {
   "cell_type": "code",
   "execution_count": 7,
   "metadata": {},
   "outputs": [
    {
     "data": {
      "text/plain": [
       "100"
      ]
     },
     "execution_count": 7,
     "metadata": {},
     "output_type": "execute_result"
    }
   ],
   "source": [
    "len(json.loads(response.content))"
   ]
  },
  {
   "cell_type": "markdown",
   "metadata": {},
   "source": [
    "### Example 1d - Model Search\n",
    "Here, we see if an organism code exists in the MINE database."
   ]
  },
  {
   "cell_type": "code",
   "execution_count": 8,
   "metadata": {
    "scrolled": true
   },
   "outputs": [
    {
     "data": {
      "text/plain": [
       "['eco', 'ecos']"
      ]
     },
     "execution_count": 8,
     "metadata": {},
     "output_type": "execute_result"
    }
   ],
   "source": [
    "url = BASE_URL + 'model-search/q=eco'  # E. coli\n",
    "response = requests.get(url, verify=False)\n",
    "json.loads(response.content)"
   ]
  },
  {
   "cell_type": "markdown",
   "metadata": {},
   "source": [
    "## 2. Retrieve Lists of Compounds, Reactions, and Operators\n",
    "### NOTE: The compound and reaction endpoints are no longer functional in MINE 2.0 as database size increased and the request now becomes too large. Updates to handle this are currently in development.\n",
    "Compounds, Reactions, and Operators are each a collection within each MINE database. get-ids is a GET request while get-comps, get-rxns, and get-ops are POST requests. get-op-w-rxns is a GET request.\n",
    "\n",
    "**Endpoints**:\n",
    "- **Get IDs**: .../mineserver/get-ids/&lt;db_name>/&lt;collection_name>\n",
    "- **Get Compounds**: .../mineserver/get-comps/&lt;db_name>\n",
    "- **Get Reactions**: .../mineserver/get-rxns/&lt;db_name>\n",
    "- **Get Operators**: .../mineserver/get-ops/&lt;db_name>\n",
    "- **Get Operator with Reactions**: .../mineserver/get-op-w-rxns/&lt;db_name>/&lt;op_id>\n",
    "\n",
    "**URL Arguments**:\n",
    "- &lt;db_name>: name of MINE database\n",
    "- &lt;collection_name>: name of collection with in MINE database\n",
    "- &lt;query>: get only IDs for documents matching this query (in Mongo syntax)\n",
    "- &lt;op_id>: operator ID (e.g. 1.1.-1.h) or Mongo ID for operator document\n",
    "\n",
    "**JSON Arguments (for POST requests)**:\n",
    "- id_list: List of IDs. Can be either MINE IDs or Mongo document IDs.\n",
    " - can specify for get-comps, get-rxns, or get-ops POST requests\n",
    "\n",
    "A general workflow to retrieve all the compound information for a MINE database could be to (1) get all IDs for compounds in the compound collection (via get-ids), and to then (2) get info on all those compounds via get-comps.\n",
    "\n",
    "### Example 2a - Get IDs\n",
    "Here, we retrieve IDs of all compounds, reactions, and operators in the KEGG MINE 2.0 database. For compounds and reactions, this is the Mongo document ID. For operators, this is the operator name (e.g. 2.7.1.a).\n",
    "\n",
    "Note that these requests can take a while. If you already know the IDs of the compounds you want, see 2b.\n",
    "\n",
    "#### For Compounds"
   ]
  },
  {
   "cell_type": "code",
   "execution_count": 9,
   "metadata": {},
   "outputs": [],
   "source": [
    "# url = BASE_URL + f'get-ids/{DB_NAME}/compounds'\n",
    "# response = requests.get(url, verify=False)\n",
    "# json.loads(response.content)"
   ]
  },
  {
   "cell_type": "markdown",
   "metadata": {},
   "source": [
    "#### For Reactions"
   ]
  },
  {
   "cell_type": "code",
   "execution_count": 10,
   "metadata": {
    "scrolled": true
   },
   "outputs": [],
   "source": [
    "# url = BASE_URL + f'get-ids/{DB_NAME}/reactions'\n",
    "# response = requests.get(url, verify=False)\n",
    "# json.loads(response.content)"
   ]
  },
  {
   "cell_type": "markdown",
   "metadata": {},
   "source": [
    "#### For Operators"
   ]
  },
  {
   "cell_type": "code",
   "execution_count": 24,
   "metadata": {
    "scrolled": true
   },
   "outputs": [
    {
     "name": "stdout",
     "output_type": "stream",
     "text": [
      "['rule0001', 'rule0002', 'rule0003', 'rule0004', 'rule0005', 'rule0006', 'rule0007', 'rule0008', 'rule0009', 'rule0010', 'rule0011', 'rule0012', 'rule0013', 'rule0014', 'rule0015', 'rule0016', 'rule0017', 'rule0018', 'rule0019', 'rule0020', 'rule0021', 'rule0022', 'rule0023', 'rule0024', 'rule0025', 'rule0026', 'rule0027', 'rule0028', 'rule0029', 'rule0030', 'rule0031', 'rule0032', 'rule0033', 'rule0034', 'rule0035', 'rule0036', 'rule0037', 'rule0038', 'rule0039', 'rule0040', 'rule0041', 'rule0042', 'rule0043', 'rule0044', 'rule0045', 'rule0046', 'rule0047', 'rule0048', 'rule0049', 'rule0050', '...']\n"
     ]
    }
   ],
   "source": [
    "url = BASE_URL + f'get-ids/{DB_NAME}/operators'\n",
    "response = requests.get(url, verify=False, timeout=100)\n",
    "results = json.loads(response.content)\n",
    "print(results[:50] + ['...'])"
   ]
  },
  {
   "cell_type": "code",
   "execution_count": 12,
   "metadata": {},
   "outputs": [
    {
     "data": {
      "text/plain": [
       "500"
      ]
     },
     "execution_count": 12,
     "metadata": {},
     "output_type": "execute_result"
    }
   ],
   "source": [
    "len(json.loads(response.content))"
   ]
  },
  {
   "cell_type": "markdown",
   "metadata": {},
   "source": [
    "### Example 2b - Get Compounds\n",
    "Here, we get info for three compounds returned from get-ids for the compound collection. The return_extra_info flag is required and tells the server whether to return extra information such as IDs, cross references, compound properties, and so on for each compound. Without it we primarily get just the information regarding the compounds connections in the network."
   ]
  },
  {
   "cell_type": "code",
   "execution_count": 13,
   "metadata": {
    "scrolled": true
   },
   "outputs": [
    {
     "data": {
      "text/plain": [
       "[{'Expand': True,\n",
       "  'Generation': 0,\n",
       "  'ID': 'C17116',\n",
       "  'InChI_key': 'ZZGANZXITREHOP-UHFFFAOYSA-N',\n",
       "  'Product_of': ['Ce0754b19f00e428c8f7762151e179ab9f468ad75_0'],\n",
       "  'Reactant_in': ['Ce0754b19f00e428c8f7762151e179ab9f468ad75_0'],\n",
       "  'SMILES': 'C#CC#CCc1ccccc1',\n",
       "  'Type': 'Starting Compound',\n",
       "  '_id': 'Ce0754b19f00e428c8f7762151e179ab9f468ad75'},\n",
       " {'Expand': True,\n",
       "  'Generation': 0,\n",
       "  'ID': 'C00762',\n",
       "  'InChI_key': 'UORVCLMRJXCDCP-UHFFFAOYSA-N',\n",
       "  'Product_of': ['C32068d7a45048ac4d78c1eb182e46bd38db5cdad_0'],\n",
       "  'Reactant_in': ['C32068d7a45048ac4d78c1eb182e46bd38db5cdad_0'],\n",
       "  'SMILES': 'C#CC(=O)O',\n",
       "  'Type': 'Starting Compound',\n",
       "  '_id': 'C32068d7a45048ac4d78c1eb182e46bd38db5cdad'},\n",
       " {'Expand': True,\n",
       "  'Generation': 0,\n",
       "  'ID': 'C14040',\n",
       "  'InChI_key': 'PHNUZKMIPFFYSO-UHFFFAOYSA-N',\n",
       "  'Product_of': [],\n",
       "  'Reactant_in': ['Cae5a5e95558b05df93151078599e4f6d38ce0eff_0'],\n",
       "  'SMILES': 'C#CC(C)(C)NC(=O)c1cc(Cl)cc(Cl)c1',\n",
       "  'Type': 'Starting Compound',\n",
       "  '_id': 'Cae5a5e95558b05df93151078599e4f6d38ce0eff'}]"
      ]
     },
     "execution_count": 13,
     "metadata": {},
     "output_type": "execute_result"
    }
   ],
   "source": [
    "url = BASE_URL + f'get-comps/{DB_NAME}'\n",
    "data = {'id_list': ['Ce0754b19f00e428c8f7762151e179ab9f468ad75',\n",
    "                    'C32068d7a45048ac4d78c1eb182e46bd38db5cdad',\n",
    "                    'Cae5a5e95558b05df93151078599e4f6d38ce0eff'],\n",
    "        'return_extra_info': False}\n",
    "response = requests.post(url, json=data, verify=False)\n",
    "json.loads(response.content)"
   ]
  },
  {
   "cell_type": "markdown",
   "metadata": {},
   "source": [
    "### Example 2c - Get Reactions\n",
    "Here, we get info for the first two reactions from get-ids for the reaction collection."
   ]
  },
  {
   "cell_type": "code",
   "execution_count": 14,
   "metadata": {
    "scrolled": true
   },
   "outputs": [
    {
     "data": {
      "text/plain": [
       "[{'Operators': ['rule0023'],\n",
       "  'Products': [[1,\n",
       "    'C1cd07c7aabc87511a7b8412f300b5fa8538c108a',\n",
       "    'O=C(O)C(Br)(Br)Br']],\n",
       "  'Reactants': [[1, 'C0dbe6886e9129c6112d0d21fd718d86d5d3dc575', 'BrC(Br)Br'],\n",
       "   [1, 'Xad024c97bc6d1c83baf5d8902af02c3a3db5358e', 'O=C=O']],\n",
       "  'SMILES_rxn': '(1) BrC(Br)Br + (1) O=C=O => (1) O=C(O)C(Br)(Br)Br',\n",
       "  '_id': 'R664033f4e61722ca696ae9be7c0d1e8fcbd63afa50350d121f40d461c560866a'},\n",
       " {'Operators': ['rule0110'],\n",
       "  'Products': [[1,\n",
       "    'Cd65ca39a895c400a350a8a53afe42e42235ca2fd',\n",
       "    'CC(C)=CCC(Br)(Br)Br'],\n",
       "   [1, 'Xa2a868d3f3866d6bfbbe78b615e42f81511ebff8', 'O=P(O)(O)OP(=O)(O)O']],\n",
       "  'Reactants': [[1, 'C0dbe6886e9129c6112d0d21fd718d86d5d3dc575', 'BrC(Br)Br'],\n",
       "   [1,\n",
       "    'Xf4a7855630639e93324efbcfa9adb1b6a80e8b62',\n",
       "    'CC(C)=CCOP(=O)(O)OP(=O)(O)O']],\n",
       "  'SMILES_rxn': '(1) BrC(Br)Br + (1) CC(C)=CCOP(=O)(O)OP(=O)(O)O => (1) CC(C)=CCC(Br)(Br)Br + (1) O=P(O)(O)OP(=O)(O)O',\n",
       "  '_id': 'R839b85080833082696be46bf63e4afbc54f4b4da6bc0812f2ff390967b69ec96'}]"
      ]
     },
     "execution_count": 14,
     "metadata": {},
     "output_type": "execute_result"
    }
   ],
   "source": [
    "url = BASE_URL + f'get-rxns/{DB_NAME}'\n",
    "data = {'id_list': ['R664033f4e61722ca696ae9be7c0d1e8fcbd63afa50350d121f40d461c560866a',\n",
    "                    'R839b85080833082696be46bf63e4afbc54f4b4da6bc0812f2ff390967b69ec96']}\n",
    "response = requests.post(url, json=data, verify=False)\n",
    "json.loads(response.content)"
   ]
  },
  {
   "cell_type": "markdown",
   "metadata": {},
   "source": [
    "### Example 2d - Get Operators\n",
    "Here, we get info for two operators from get-ids for the operator colleciton."
   ]
  },
  {
   "cell_type": "code",
   "execution_count": 15,
   "metadata": {
    "scrolled": false
   },
   "outputs": [
    {
     "data": {
      "text/plain": [
       "[{'': '231',\n",
       "  'Comments': 'RXN-14655;RXN-14656;RXN-14820;RXN-14821;RXN-14822;RXN-14823;RXN-8149;RXN-8152;RXN-9863;RXN-9864;RXN-9901',\n",
       "  'Name': 'rule0232',\n",
       "  'Products': ['Any', 'Any', 'O2'],\n",
       "  'Reactants': ['Any', 'CO2', 'Any', 'Any'],\n",
       "  'Reactions_predicted': 65684,\n",
       "  'SMARTS': '[#6:1]-[#8:2].[#6:3]=[#8:4].[#6:5]=[#8:6].[#8:7]>>[#6:1]-[#6:3]-[#8:4].[#6:5]-[#8:7].[#8:2]=[#8:6]',\n",
       "  '_id': 'rule0232'},\n",
       " {'': '1069',\n",
       "  'Comments': 'HEPARITIN-SULFOTRANSFERASE-RXN',\n",
       "  'Name': 'rule1231',\n",
       "  'Products': ['Any', 'SULFATE_DONOR_CoF'],\n",
       "  'Reactants': ['Any', 'SULFATE_ACCEPTOR_CoF'],\n",
       "  'Reactions_predicted': 13,\n",
       "  'SMARTS': '[#7:1]-[#16:2].[#8:3]>>[#7:1].[#8:3]-[#16:2]',\n",
       "  '_id': 'rule1231'}]"
      ]
     },
     "execution_count": 15,
     "metadata": {},
     "output_type": "execute_result"
    }
   ],
   "source": [
    "url = BASE_URL + f'get-ops/{DB_NAME}'\n",
    "data = {'id_list': ['rule0232', 'rule1231']}\n",
    "response = requests.post(url, json=data, verify=False)\n",
    "json.loads(response.content)"
   ]
  },
  {
   "cell_type": "markdown",
   "metadata": {},
   "source": [
    "### Example 2e - Get Reactions for Operator\n",
    "Here, we get all reactions linked to a specific operator. Similar to get-ops but in this case we also get the reaction IDs."
   ]
  },
  {
   "cell_type": "code",
   "execution_count": 16,
   "metadata": {},
   "outputs": [
    {
     "data": {
      "text/plain": [
       "{'': '1069',\n",
       " 'Comments': 'HEPARITIN-SULFOTRANSFERASE-RXN',\n",
       " 'Name': 'rule1231',\n",
       " 'Products': ['Any', 'SULFATE_DONOR_CoF'],\n",
       " 'Reactants': ['Any', 'SULFATE_ACCEPTOR_CoF'],\n",
       " 'Reaction_ids': ['R9c4e02c892ed9fdf373b41f69095af71ad50dc81d8a167d6eec0b1976b71980e',\n",
       "  'R71fa464385986822c1c43ea601e37741038132960575ea6a4f747e692fbfc28e',\n",
       "  'Rcb21cd0b581d098cc61914d9c24ecc24b57ff9e0800138350bdbb84f64297d6e',\n",
       "  'R700bfbc7946a9c659017d165d9a56ec61fc76241edb34099a713a30b10fa350b',\n",
       "  'Rb54cff849c2841233c9750f31cc6a4041393e2310b430f5a11cd546135a78715',\n",
       "  'R7f52b35d9f88ca52023ae28bb5e32dfe757b24da1858dfe59bdd5f49508050be',\n",
       "  'R489def7814720d729974c16413fec0acf73ed10cb1c06a513dfa5f24d976f164',\n",
       "  'Red325c40798bf8fc8ff26a44fb4de6da81155e4ed74c98cd072d9f62a4275067',\n",
       "  'Rd2cb3ffbfb573642b29d8d8bafa5c0249e4e7478ec596c0f1658eb6a3efc186f',\n",
       "  'Rb6e1bf1b356a73741a16e6c0e5e0c7506bada8ee859f3452b2e2530009198154',\n",
       "  'R2744457f2eb7688d77d59c4db94a4ae1bc9e3f5ca62233bd4b122bf8aaa3e76b',\n",
       "  'Rdafb78b40e6fa5387c3aff657665ec04da06f84b29f5184f3d60d9c538422243',\n",
       "  'R750e9e716a7738269c508d598b961d8944d44c3b456912c6227e65ed947146ea'],\n",
       " 'Reactions_predicted': 13,\n",
       " 'SMARTS': '[#7:1]-[#16:2].[#8:3]>>[#7:1].[#8:3]-[#16:2]',\n",
       " '_id': 'rule1231'}"
      ]
     },
     "execution_count": 16,
     "metadata": {},
     "output_type": "execute_result"
    }
   ],
   "source": [
    "url = BASE_URL + f'get-op-w-rxns/{DB_NAME}/rule1231'\n",
    "response = requests.get(url, verify=False)\n",
    "json.loads(response.content)"
   ]
  },
  {
   "cell_type": "markdown",
   "metadata": {},
   "source": [
    "## 3. Perform an MS Search\n",
    "Provide a monoisotopic mass as well as a dictionary of search parameters to search the MINE for matching compounds. This is a POST request. Here we just provide monoisotopic mass as regular text. However, you can also copy and paste mgf- or mzxml-formatted data in the 'text' field (and set 'text_type' to the appropriate value).\n",
    "\n",
    "**Endpoint**: .../mineserver/ms-adduct-search/&lt;db_name>\n",
    "\n",
    "**URL Arguments**:\n",
    "- &lt;db_name>: name of MINE database\n",
    "\n",
    "**JSON Arguments**:\n",
    "- See API documentation.\n",
    "\n",
    "### Example 3a - MS Search"
   ]
  },
  {
   "cell_type": "code",
   "execution_count": 17,
   "metadata": {
    "scrolled": false
   },
   "outputs": [
    {
     "name": "stdout",
     "output_type": "stream",
     "text": [
      "{'Formula': 'C9H6F6O2', 'Inchikey': 'XBQISEWBYMWLET-UHFFFAOYSA-N', 'MINE_id': 4028537, 'SMILES': 'Oc1ccc(C(O)(C(F)(F)F)C(F)(F)F)cc1', 'Spectra': {'Negative': {'10V': [[259.01992, 100.0]], '20V': [[189.01689, 21.86], [259.01992, 100.0]], '40V': [[189.01689, 18.22], [259.01992, 100.0]]}, 'Positive': {'10V': [[261.03448, 100.0]], '20V': [[261.03448, 100.0]], '40V': [[51.02293, 11.58], [53.03858, 8.58], [193.00826, 11.58], [199.01768, 29.16], [205.00826, 7.67], [207.02391, 8.25], [213.03333, 12.13], [217.00826, 13.86], [219.02391, 100.0], [231.02391, 15.57], [233.03956, 9.09], [241.02825, 15.58], [261.03448, 10.09]]}}, '_id': 'Cc3d88f2fb038c43aa2e84c9c3161124e9a30bed9', 'adduct': '[M-H]-', 'logP': 2.7044000000000006, 'native_hit': False, 'peak_name': '259.02244262600003', 'product_of_native_hit': False} \n",
      "\n",
      "{'Formula': 'C11H13ClO3S', 'Inchikey': 'HMLSQZYMGOSQDN-UHFFFAOYSA-N', 'MINE_id': 2811674, 'SMILES': 'CCSC(=O)C(O)Oc1ccc(Cl)cc1C', 'Spectra': {'Negative': {'10V': [[34.9694, 27.76], [61.01174, 86.56], [88.97027, 61.52], [117.00157, 48.88], [141.01127, 53.62], [259.02012, 100.0]], '20V': [[34.9694, 100.0], [56.9982, 26.02], [58.99609, 23.27], [141.01127, 13.29]], '40V': [[34.9694, 100.0], [58.99609, 19.36], [61.01174, 17.09]]}, 'Positive': {'10V': [[103.02121, 14.48], [143.02582, 59.64], [181.00508, 11.16], [183.02073, 16.14], [214.9928, 23.76], [217.00845, 9.08], [225.01354, 19.16], [233.00337, 8.83], [243.0241, 100.0], [261.03467, 66.28]], '20V': [[56.99711, 18.73], [59.01276, 18.39], [61.01065, 77.16], [63.0263, 50.58], [90.98483, 47.53], [93.00048, 24.15], [93.06988, 17.74], [101.00556, 24.17], [103.02121, 10.51], [107.04914, 16.88], [119.01613, 29.88], [125.01525, 34.9], [127.0309, 16.14], [129.04655, 20.09], [141.01017, 13.83], [143.02582, 100.0], [171.02073, 10.31], [181.00508, 10.57], [199.01565, 14.9], [214.9928, 21.75], [233.00337, 14.33], [261.03467, 33.66]], '40V': [[34.995, 6.78], [44.97935, 33.82], [46.995, 15.65], [56.97935, 13.45], [58.995, 23.48], [61.01065, 100.0], [77.03858, 7.04], [79.05423, 7.12], [81.06988, 5.47], [89.01525, 6.14], [91.05423, 11.1], [93.06988, 4.88], [95.08553, 8.73], [98.9996, 12.1], [103.0309, 5.19], [105.03349, 8.11], [107.04914, 30.4], [113.01525, 24.69], [115.0309, 11.51], [125.01525, 48.9], [131.0622, 4.79], [141.01017, 52.07], [143.02582, 14.96]]}}, '_id': 'Cb44b1f0022c41005940f85fd3347f7eb8f94c6a1', 'adduct': '[M-H]-', 'logP': 2.625320000000001, 'native_hit': False, 'peak_name': '259.02244262600003', 'product_of_native_hit': False} \n",
      "\n",
      "{'Formula': 'C11H13ClO3S', 'Inchikey': 'VFKCSHZSUWDXQC-UHFFFAOYSA-N', 'MINE_id': 2811677, 'SMILES': 'Cc1cc(Cl)ccc1OCC(=O)SCCO', 'Spectra': {'Negative': {'10V': [[32.98044, 32.96], [34.9694, 31.89], [58.99609, 25.37], [74.99101, 29.09], [141.01127, 100.0], [181.00618, 32.04], [214.9939, 16.15]], '20V': [[32.98044, 47.41], [34.9694, 63.36], [41.00329, 25.8], [74.99101, 74.49], [89.00666, 8.04], [141.01127, 100.0]], '40V': [[34.9694, 100.0], [58.99609, 3.53], [74.99101, 7.56], [87.0007, 3.52], [138.99562, 3.49], [141.01127, 3.79]]}, 'Positive': {'10V': [[74.98991, 5.39], [77.00556, 5.27], [107.04914, 35.92], [141.01017, 7.39], [143.02582, 100.0], [183.02073, 4.44], [217.00845, 18.49], [243.0241, 8.83], [261.03467, 38.41]], '20V': [[41.00219, 15.12], [45.03349, 24.14], [61.01065, 25.84], [74.98991, 89.9], [77.00556, 39.04], [89.00556, 80.6], [91.02121, 17.28], [101.00556, 20.54], [103.02121, 18.98], [125.01525, 21.78], [141.01017, 100.0], [143.02582, 62.11], [155.02582, 69.87], [181.03178, 16.49], [183.02073, 22.01], [198.99789, 26.86], [214.9928, 24.55], [217.00845, 36.17]], '40V': [[43.01784, 100.0], [45.03349, 48.43], [46.995, 21.5], [58.995, 29.13], [61.01065, 30.78], [74.98991, 46.46], [77.00556, 20.21], [89.00556, 8.03], [98.9996, 6.65], [101.01525, 8.28], [103.02121, 60.74], [105.03349, 8.34], [107.04914, 29.81], [113.01525, 31.37], [115.0309, 7.84], [125.01525, 25.56], [141.01017, 36.83], [143.02582, 19.76]]}}, '_id': 'Ccfb2386884c4e65f8bec3419600d1f84c154c73b', 'adduct': '[M-H]-', 'logP': 2.2793200000000007, 'native_hit': False, 'peak_name': '259.02244262600003', 'product_of_native_hit': False}\n"
     ]
    }
   ],
   "source": [
    "url = BASE_URL + f'ms-adduct-search/{DB_NAME}'\n",
    "json_dict = {\n",
    "    'tolerance': 3,  # required (mDa)\n",
    "    'charge': False,  # True=positive\n",
    "    'text': '259.02244262600003',  # monoisotopic mass (including adduct) goes here\n",
    "    # rest of parameters are optional\n",
    "    'text_type': 'form',\n",
    "    'adducts': \"['[M-H]-']\",\n",
    "    'models': \"['eco']\",  # Filter to only comps that could be produced from E coli (as defined by KEGG)\n",
    "    'ppm': False,\n",
    "    'halogens': True,\n",
    "    'verbose': True\n",
    "}\n",
    "response = requests.post(url, json=json_dict, verify=False)\n",
    "results = json.loads(response.content)\n",
    "print(results[0], '\\n')\n",
    "print(results[1], '\\n')\n",
    "print(results[2])"
   ]
  },
  {
   "cell_type": "code",
   "execution_count": 18,
   "metadata": {},
   "outputs": [
    {
     "data": {
      "text/plain": [
       "884"
      ]
     },
     "execution_count": 18,
     "metadata": {},
     "output_type": "execute_result"
    }
   ],
   "source": [
    "len(json.loads(response.content))"
   ]
  },
  {
   "cell_type": "markdown",
   "metadata": {},
   "source": [
    "## 4. Perform an MS2 Search\n",
    "Provide a list of MS2 spectra and intensities as well as a dictionary of search parameters to search the MINE for matching compounds. This is a POST request. Here we just provide monoisotopic mass as regular text. However, you can also copy and paste mgf- or mzxml-formatted data in the 'text' field (and set 'text_type' to the appropriate value). Spectral score indicates the quality of the match (from 0 to 1000).\n",
    "\n",
    "**Endpoint**: .../mineserver/ms2-search/&lt;db_name>\n",
    "\n",
    "**URL Arguments**:\n",
    "- &lt;db_name>: name of MINE database\n",
    "\n",
    "**JSON Arguments**:\n",
    "- See API documentation.\n",
    "\n",
    "### Example 4a - MS2 Search"
   ]
  },
  {
   "cell_type": "code",
   "execution_count": 19,
   "metadata": {},
   "outputs": [
    {
     "name": "stdout",
     "output_type": "stream",
     "text": [
      "{'Formula': 'C6H13O9P', 'Inchikey': 'OHHWZOLKNMHAAJ-UHFFFAOYSA-N', 'MINE_id': 3594886, 'SMILES': 'O=C(O)C(O)COP(=O)(O)OCC(O)CO', 'Spectra': {'Negative': {'10V': [[78.95905, 100.0], [166.9751, 20.95], [171.0064, 50.84], [184.98566, 13.86], [259.02244, 73.69]], '20V': [[78.95905, 100.0], [96.96962, 28.29], [138.98018, 5.63], [152.99583, 13.48], [166.9751, 8.32], [168.99075, 13.71], [171.0064, 8.3]], '40V': [[78.95905, 100.0], [152.99583, 14.77]]}, 'Positive': {'10V': [[89.02332, 16.58], [96.96852, 16.73], [98.98417, 48.27], [140.99474, 12.78], [143.01039, 7.96], [155.01039, 13.89], [168.98965, 23.63], [173.02095, 11.37], [187.00022, 100.0]], '20V': [[89.02332, 11.08], [96.96852, 15.54], [98.98417, 100.0], [140.99474, 7.17], [168.98965, 9.35], [187.00022, 8.74]], '40V': [[75.04406, 6.81], [80.97361, 6.8], [82.98926, 10.43], [96.96852, 14.33], [98.98417, 100.0], [100.99982, 6.63], [155.01039, 6.88]]}}, 'Spectral_score': 150, '_id': 'Ce6f3a27982ad7ed60ce261c9a3296307ccc735ba', 'adduct': '[M+H]+', 'logP': -2.0812999999999997, 'native_hit': False, 'peak_name': '261.037', 'product_of_native_hit': False} \n",
      "\n",
      "{'Formula': 'C6H13O9P', 'Inchikey': 'YKXWGKVIZLYDIV-UHFFFAOYSA-N', 'MINE_id': 4008650, 'SMILES': 'O=P(O)(O)OC(O)C(O)C(O)C(O)C1CO1', 'Spectra': {'Negative': {'10V': [[259.02244, 100.0]], '20V': [[71.01385, 13.31], [78.95905, 100.0], [96.96962, 61.15]], '40V': [[78.95905, 100.0], [96.96962, 17.87]]}, 'Positive': {'10V': [[43.01784, 15.17], [61.02841, 10.98], [73.02841, 17.28], [103.03897, 15.8], [115.03897, 14.46], [133.04954, 10.95], [145.04954, 54.91], [161.04445, 5.7], [163.0601, 45.41], [225.01587, 13.48], [243.02643, 43.22], [261.037, 100.0]], '20V': [[43.01784, 100.0], [55.01784, 12.85], [61.02841, 50.1], [73.02841, 35.7], [85.02841, 12.91], [89.02332, 14.29], [98.98417, 13.58], [103.03897, 28.92], [119.03389, 20.89], [121.04954, 9.57], [143.03389, 16.67], [145.04954, 18.47], [147.06519, 9.53], [163.0601, 10.96]], '40V': [[43.01784, 100.0], [55.01784, 27.24], [57.03349, 37.17], [61.02841, 47.61], [73.02841, 55.82], [80.97361, 71.86], [85.02841, 36.85], [87.04406, 64.27], [98.98417, 55.43], [103.03897, 26.8], [231.02643, 22.99]]}}, 'Spectral_score': 77, '_id': 'Cbd09f70d9887c76f57909fa37ae7c07bdda0599e', 'adduct': '[M+H]+', 'logP': -3.104400000000001, 'native_hit': False, 'peak_name': '261.037', 'product_of_native_hit': False} \n",
      "\n",
      "{'Formula': 'C6H12O9S', 'Inchikey': 'DQIRDOJQHLRLMD-UHFFFAOYSA-N', 'MINE_id': 3784996, 'SMILES': 'O=S1(=O)CC(O)C(O)C(O)(C(O)C(O)O)O1', 'Spectra': {'Negative': {'10V': [[75.00877, 15.01], [180.98123, 27.86], [194.99688, 3.22], [241.00236, 25.68], [259.01293, 100.0]], '20V': [[75.00877, 64.03], [80.96519, 49.48], [94.98084, 12.81], [121.01425, 15.93], [149.04555, 8.2], [152.98632, 15.88], [155.00197, 9.28], [164.98632, 12.88], [180.98123, 15.85], [182.99688, 19.23], [194.99688, 100.0], [213.00745, 49.86], [259.01293, 18.02]], '40V': [[41.00329, 32.06], [44.9982, 25.54], [56.9982, 60.58], [59.01385, 27.29], [73.0295, 16.99], [75.00877, 100.0], [80.96519, 36.01], [94.98084, 19.71], [121.01425, 7.57]]}, 'Positive': {'10V': [[43.01784, 28.11], [61.02841, 36.77], [79.03897, 28.05], [182.99579, 27.89], [243.01691, 26.86], [261.02748, 100.0]], '20V': [[41.00219, 10.61], [43.01784, 64.78], [45.03349, 6.27], [47.01276, 4.93], [59.01276, 30.36], [61.02841, 100.0], [64.96918, 3.95], [75.04406, 3.57], [77.02332, 20.67], [79.03897, 21.03], [107.03389, 4.49], [119.03389, 4.53], [164.98522, 3.56], [179.05501, 4.55], [243.01691, 12.51], [261.02748, 13.89]], '40V': [[43.01784, 13.07], [45.03349, 55.8], [57.03349, 12.86], [59.01276, 5.02], [61.02841, 30.46], [64.96918, 70.73], [75.04406, 12.7], [77.02332, 7.72], [80.96409, 12.08], [91.03897, 8.29], [108.99539, 100.0], [111.01104, 24.41], [131.03726, 5.66], [155.05501, 11.58]]}}, 'Spectral_score': 73, '_id': 'Cd66fbc0f77d6e155909de843948768d1adc00227', 'adduct': '[M+H]+', 'logP': -4.571599999999997, 'native_hit': False, 'peak_name': '261.037', 'product_of_native_hit': False}\n"
     ]
    }
   ],
   "source": [
    "url = BASE_URL + f'ms2-search/{DB_NAME}'\n",
    "json_dict = {\n",
    "    'tolerance': 10,  # in mDa\n",
    "    'charge': True,  # True=positive\n",
    "    'energy_level': 20,  # in volts\n",
    "    'scoring_function': 'dot product',\n",
    "    'text': '261.037\\n43.0189 1\\n59.013 1\\n96.970 10',  # MS2 spectra go here\n",
    "    # All following parameters are optional\n",
    "    'text_type': 'form',\n",
    "    'adducts': \"['[M+H]+']\",\n",
    "    #'models': \"['hsa']\",\n",
    "    'ppm': False,\n",
    "    'halogens': False,\n",
    "    'verbose': True\n",
    "}\n",
    "response = requests.post(url, json=json_dict, verify=False)\n",
    "results = json.loads(response.content)\n",
    "print(results[0], '\\n')\n",
    "print(results[1], '\\n')\n",
    "print(results[2])"
   ]
  },
  {
   "cell_type": "code",
   "execution_count": 20,
   "metadata": {},
   "outputs": [
    {
     "data": {
      "text/plain": [
       "1156"
      ]
     },
     "execution_count": 20,
     "metadata": {},
     "output_type": "execute_result"
    }
   ],
   "source": [
    "len(json.loads(response.content))"
   ]
  },
  {
   "cell_type": "markdown",
   "metadata": {},
   "source": [
    "## 5. Download Predicted Spectra\n",
    "In the MINE database, spectra are predicted for every compound using CFM-ID 4.0. You can retrieve these predictions by using this endpoint.\n",
    "\n",
    "**Endpoint**: .../mineserver/spectra-download/&lt;mongo_id>\n",
    "\n",
    "**URL Arguments**:\n",
    "- &lt;mongo_id>: Mongo ID of compound to download spectra for \n",
    "\n",
    "### Example 5 - Download a Spectrum for a Specific Compound"
   ]
  },
  {
   "cell_type": "code",
   "execution_count": 21,
   "metadata": {
    "scrolled": false
   },
   "outputs": [
    {
     "data": {
      "text/plain": [
       "['Name: MINE Compound C0000256c516bdb0a11d68b1ecc2b066bad33ed64',\n",
       " 'Formula: C26H42O2',\n",
       " 'Inchikey: YLOFSVMLRHSDAB-PZKBCHNNSA-N',\n",
       " 'Mass: 386.31848058399993',\n",
       " 'SMILES: CCC1CC1/C=C\\\\C/C=C\\\\C/C=C\\\\C/C=C\\\\CCCCCCCCCC(=O)O',\n",
       " 'logP: 8.023100000000007',\n",
       " 'Charge: 0',\n",
       " 'MINE_id: 1489368',\n",
       " 'KEGG_id: None',\n",
       " 'Instrument: CFM-ID 4.0',\n",
       " 'Ionization: Positive',\n",
       " 'Energy: 10V',\n",
       " 'Num Peaks: 30',\n",
       " '55.05423 15.75',\n",
       " '69.06988 16.26',\n",
       " '71.04914 10.44',\n",
       " '79.05423 6.74',\n",
       " '81.06988 8.87',\n",
       " '85.06479 5.28',\n",
       " '89.05971 5.32',\n",
       " '93.06988 8.0',\n",
       " '103.05423 5.48',\n",
       " '107.08553 5.15',\n",
       " '135.11683 6.58',\n",
       " '137.13248 8.58',\n",
       " '171.11683 11.96',\n",
       " '185.13248 10.42',\n",
       " '199.14813 5.88',\n",
       " '201.16378 8.44',\n",
       " '223.16926 5.48',\n",
       " '251.20056 6.43',\n",
       " '255.21073 5.43',\n",
       " '257.22638 11.01',\n",
       " '271.24203 10.13',\n",
       " '295.24203 6.5',\n",
       " '305.24751 5.27',\n",
       " '307.26316 6.62',\n",
       " '323.27333 12.42',\n",
       " '327.30463 8.58',\n",
       " '341.32028 7.3',\n",
       " '351.30463 69.29',\n",
       " '369.31519 85.68',\n",
       " '387.32576 100.0',\n",
       " '',\n",
       " 'Name: MINE Compound C0000256c516bdb0a11d68b1ecc2b066bad33ed64',\n",
       " 'Formula: C26H42O2',\n",
       " 'Inchikey: YLOFSVMLRHSDAB-PZKBCHNNSA-N',\n",
       " 'Mass: 386.31848058399993',\n",
       " 'SMILES: CCC1CC1/C=C\\\\C/C=C\\\\C/C=C\\\\C/C=C\\\\CCCCCCCCCC(=O)O',\n",
       " 'logP: 8.023100000000007',\n",
       " 'Charge: 0',\n",
       " 'MINE_id: 1489368',\n",
       " 'KEGG_id: None',\n",
       " 'Instrument: CFM-ID 4.0',\n",
       " 'Ionization: Positive',\n",
       " 'Energy: 20V',\n",
       " 'Num Peaks: 30',\n",
       " '55.05423 74.87',\n",
       " '57.03349 26.92',\n",
       " '67.05423 24.66',\n",
       " '69.06988 52.4',\n",
       " '71.04914 33.61',\n",
       " '81.06988 42.1',\n",
       " '85.06479 29.01',\n",
       " '89.03858 28.2',\n",
       " '91.05423 45.07',\n",
       " '93.06988 37.09',\n",
       " '95.08553 20.41',\n",
       " '103.05423 31.2',\n",
       " '135.11683 22.72',\n",
       " '171.11683 50.79',\n",
       " '185.13248 39.29',\n",
       " '225.16378 23.27',\n",
       " '255.21073 23.93',\n",
       " '257.22638 26.65',\n",
       " '263.20056 23.31',\n",
       " '269.22638 21.18',\n",
       " '271.24203 21.75',\n",
       " '285.25768 20.91',\n",
       " '297.25768 24.74',\n",
       " '299.27333 27.86',\n",
       " '313.28898 23.26',\n",
       " '327.30463 21.61',\n",
       " '351.30463 100.0',\n",
       " '369.31519 70.09',\n",
       " '385.31011 34.89',\n",
       " '387.32576 36.08',\n",
       " '',\n",
       " 'Name: MINE Compound C0000256c516bdb0a11d68b1ecc2b066bad33ed64',\n",
       " 'Formula: C26H42O2',\n",
       " 'Inchikey: YLOFSVMLRHSDAB-PZKBCHNNSA-N',\n",
       " 'Mass: 386.31848058399993',\n",
       " 'SMILES: CCC1CC1/C=C\\\\C/C=C\\\\C/C=C\\\\C/C=C\\\\CCCCCCCCCC(=O)O',\n",
       " 'logP: 8.023100000000007',\n",
       " 'Charge: 0',\n",
       " 'MINE_id: 1489368',\n",
       " 'KEGG_id: None',\n",
       " 'Instrument: CFM-ID 4.0',\n",
       " 'Ionization: Positive',\n",
       " 'Energy: 40V',\n",
       " '...']"
      ]
     },
     "execution_count": 21,
     "metadata": {},
     "output_type": "execute_result"
    }
   ],
   "source": [
    "url = BASE_URL + f'spectra-download/C0000256c516bdb0a11d68b1ecc2b066bad33ed64'\n",
    "response = requests.get(url, verify=False)\n",
    "spectra = response.content.decode().split('\\n')\n",
    "spectra[:100] + ['...']"
   ]
  },
  {
   "cell_type": "markdown",
   "metadata": {},
   "source": [
    "## 6. Get List of Possible Metabolomics Adducts\n",
    "Get names of adducts able to be used for metabolomics (MS and MS2) searches. This is a GET request.\n",
    "\n",
    "**Endpoint**: .../mineserver/get-adduct-names/&lt;adduct_type>\n",
    "where &lt;adduct_type> is optional\n",
    "\n",
    "**URL Arguments**:\n",
    "- &lt;adduct_type>: Type of adduct. Options are 'positive', 'negative', or 'all'. Defaults to 'all'.\n",
    "\n",
    "### Example 6a - Get all Adduct Names"
   ]
  },
  {
   "cell_type": "code",
   "execution_count": 22,
   "metadata": {
    "scrolled": true
   },
   "outputs": [
    {
     "data": {
      "text/plain": [
       "[['[M]+',\n",
       "  '[M+H]+',\n",
       "  '[M+NH4]+',\n",
       "  '[M+Na]+',\n",
       "  '[M+2H]+',\n",
       "  '[M+K]+',\n",
       "  '[M+3H]+',\n",
       "  '[M+2H+Na]+',\n",
       "  '[M+H+2Na]+',\n",
       "  '[M+3Na]+',\n",
       "  '[M+H+NH4]+',\n",
       "  '[M+H+Na]+',\n",
       "  '[M+H+K]+',\n",
       "  '[M+ACN+2H]+',\n",
       "  '[M+2Na]+',\n",
       "  '[M+2ACN+2H]+',\n",
       "  '[M+3ACN+2H]+',\n",
       "  '[M+CH3OH+H]+',\n",
       "  '[M+ACN+H]+',\n",
       "  '[M+2Na-H]+',\n",
       "  '[M+IsoProp+H]+',\n",
       "  '[M+ACN+Na]+',\n",
       "  '[M+2K+H]+',\n",
       "  '[M+DMSO+H]+',\n",
       "  '[M+2ACN+H]+',\n",
       "  '[M+IsoProp+Na+H]+',\n",
       "  '[2M+H]+',\n",
       "  '[2M+NH4]+',\n",
       "  '[2M+Na]+',\n",
       "  '[2M+3H2O+2H]+',\n",
       "  '[2M+K]+',\n",
       "  '[2M+ACN+H]+',\n",
       "  '[2M+ACN+Na]+'],\n",
       " ['[M-H]-',\n",
       "  '[M+CH3COO]-',\n",
       "  '[M-2H]-',\n",
       "  '[2M-H]-',\n",
       "  '[M+H2O-2H]-',\n",
       "  '[M+COO]-',\n",
       "  '[M-3H]-',\n",
       "  '[M+Na-2H]-',\n",
       "  '[M+Cl]-',\n",
       "  '[M+K-2H]-',\n",
       "  '[M+Br]-',\n",
       "  '[M+CF3COO]-',\n",
       "  '[2M+COO]-',\n",
       "  '[2M+CH3COO]-',\n",
       "  '[3M-H]-',\n",
       "  '[M+F]-']]"
      ]
     },
     "execution_count": 22,
     "metadata": {},
     "output_type": "execute_result"
    }
   ],
   "source": [
    "url = BASE_URL + 'get-adduct-names'\n",
    "response = requests.get(url, verify=False)\n",
    "json.loads(response.content)"
   ]
  },
  {
   "cell_type": "markdown",
   "metadata": {},
   "source": [
    "### Example 6b - Get Positive Adduct Names"
   ]
  },
  {
   "cell_type": "code",
   "execution_count": 23,
   "metadata": {
    "scrolled": true
   },
   "outputs": [
    {
     "data": {
      "text/plain": [
       "['[M]+',\n",
       " '[M+H]+',\n",
       " '[M+NH4]+',\n",
       " '[M+Na]+',\n",
       " '[M+2H]+',\n",
       " '[M+K]+',\n",
       " '[M+3H]+',\n",
       " '[M+2H+Na]+',\n",
       " '[M+H+2Na]+',\n",
       " '[M+3Na]+',\n",
       " '[M+H+NH4]+',\n",
       " '[M+H+Na]+',\n",
       " '[M+H+K]+',\n",
       " '[M+ACN+2H]+',\n",
       " '[M+2Na]+',\n",
       " '[M+2ACN+2H]+',\n",
       " '[M+3ACN+2H]+',\n",
       " '[M+CH3OH+H]+',\n",
       " '[M+ACN+H]+',\n",
       " '[M+2Na-H]+',\n",
       " '[M+IsoProp+H]+',\n",
       " '[M+ACN+Na]+',\n",
       " '[M+2K+H]+',\n",
       " '[M+DMSO+H]+',\n",
       " '[M+2ACN+H]+',\n",
       " '[M+IsoProp+Na+H]+',\n",
       " '[2M+H]+',\n",
       " '[2M+NH4]+',\n",
       " '[2M+Na]+',\n",
       " '[2M+3H2O+2H]+',\n",
       " '[2M+K]+',\n",
       " '[2M+ACN+H]+',\n",
       " '[2M+ACN+Na]+']"
      ]
     },
     "execution_count": 23,
     "metadata": {},
     "output_type": "execute_result"
    }
   ],
   "source": [
    "url = BASE_URL + 'get-adduct-names/positive'\n",
    "response = requests.get(url, verify=False)\n",
    "json.loads(response.content)"
   ]
  },
  {
   "cell_type": "code",
   "execution_count": null,
   "metadata": {},
   "outputs": [],
   "source": []
  },
  {
   "cell_type": "code",
   "execution_count": null,
   "metadata": {},
   "outputs": [],
   "source": []
  },
  {
   "cell_type": "code",
   "execution_count": null,
   "metadata": {},
   "outputs": [],
   "source": []
  }
 ],
 "metadata": {
  "kernelspec": {
   "display_name": "Python (mine3)",
   "language": "python",
   "name": "mine3"
  },
  "language_info": {
   "codemirror_mode": {
    "name": "ipython",
    "version": 3
   },
   "file_extension": ".py",
   "mimetype": "text/x-python",
   "name": "python",
   "nbconvert_exporter": "python",
   "pygments_lexer": "ipython3",
   "version": "3.9.4"
  }
 },
 "nbformat": 4,
 "nbformat_minor": 2
}
